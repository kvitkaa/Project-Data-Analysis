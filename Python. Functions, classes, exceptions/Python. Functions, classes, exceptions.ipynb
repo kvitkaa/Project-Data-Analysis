{
 "cells": [
  {
   "cell_type": "markdown",
   "id": "9c46897f",
   "metadata": {},
   "source": [
    "# Phyton code"
   ]
  },
  {
   "cell_type": "markdown",
   "id": "565f7bfb",
   "metadata": {},
   "source": [
    "1. The `is_even` function, which for a given number determines whether it is even. The function must return a result of type bool."
   ]
  },
  {
   "cell_type": "code",
   "execution_count": 1,
   "id": "a70c4004",
   "metadata": {
    "ExecuteTime": {
     "end_time": "2023-11-14T08:50:55.793144Z",
     "start_time": "2023-11-14T08:50:55.790142Z"
    }
   },
   "outputs": [],
   "source": [
    "def is_even(digit) -> bool:\n",
    "    if digit % 2 == 0: \n",
    "        return True\n",
    "    else:\n",
    "        return False"
   ]
  },
  {
   "cell_type": "code",
   "execution_count": 2,
   "id": "0298fd7b",
   "metadata": {
    "ExecuteTime": {
     "end_time": "2023-11-14T08:50:56.629176Z",
     "start_time": "2023-11-14T08:50:56.621174Z"
    }
   },
   "outputs": [
    {
     "data": {
      "text/plain": [
       "[False, True, False, False, True]"
      ]
     },
     "execution_count": 2,
     "metadata": {},
     "output_type": "execute_result"
    }
   ],
   "source": [
    "[is_even(digit) for digit in [101, 2002, 3043, 5015, 8222]]"
   ]
  },
  {
   "cell_type": "markdown",
   "id": "35c14446",
   "metadata": {
    "ExecuteTime": {
     "end_time": "2022-10-22T04:15:21.939494Z",
     "start_time": "2022-10-22T04:15:21.933981Z"
    }
   },
   "source": [
    "2. The `get_random_int_list` function, which returns a specified number of random integers from the range from 0 to 100."
   ]
  },
  {
   "cell_type": "code",
   "execution_count": 3,
   "id": "cd8d8f64",
   "metadata": {
    "ExecuteTime": {
     "end_time": "2023-11-14T08:51:18.264094Z",
     "start_time": "2023-11-14T08:51:18.261093Z"
    }
   },
   "outputs": [],
   "source": [
    "import random"
   ]
  },
  {
   "cell_type": "code",
   "execution_count": 4,
   "id": "c8820409",
   "metadata": {
    "ExecuteTime": {
     "end_time": "2023-11-14T08:51:19.680480Z",
     "start_time": "2023-11-14T08:51:19.676479Z"
    }
   },
   "outputs": [],
   "source": [
    "def get_random_int_list(n_digits):\n",
    "    l = []\n",
    "    for _ in range(n_digits):\n",
    "        l.append(random.randint(0,100))\n",
    "    return l"
   ]
  },
  {
   "cell_type": "code",
   "execution_count": 5,
   "id": "49eb989b",
   "metadata": {
    "ExecuteTime": {
     "end_time": "2023-11-14T08:51:20.337728Z",
     "start_time": "2023-11-14T08:51:20.332719Z"
    }
   },
   "outputs": [
    {
     "data": {
      "text/plain": [
       "[76, 86, 6, 11, 92, 77, 12, 5]"
      ]
     },
     "execution_count": 5,
     "metadata": {},
     "output_type": "execute_result"
    }
   ],
   "source": [
    "get_random_int_list(8)"
   ]
  },
  {
   "cell_type": "markdown",
   "id": "f7dcd95b",
   "metadata": {},
   "source": [
    "3. The following code snippet calculates [the body mass index (BMI)](https://uk.wikipedia.org/wiki/%D0%86%D0%BD%D0%B4%D0%B5%D0%BA%D1%81_%D0%BC%D0%B0%D1%81%D0%B8_%D1%82%D1%96%D0%BB%D0%B0#:~:text=%D0%86%CC%81%D0%BD%D0%B4%D0%B5%D0%BA%D1%81%20%D0%BC%D0%B0%CC%81%D1%81%D0%B8%20%D1%82%D1%96%CC%81%D0%BB%D0%B0%20(%D0%86%D0%9C%D0%A2%2C%20%D0%B0%D0%BD%D0%B3%D0%BB,%D0%BD%D0%BE%D1%80%D0%BC%D0%B0%D0%BB%D1%8C%D0%BD%D0%BE%D1%8E%2C%20%D0%BD%D0%B0%D0%B4%D0%BC%D1%96%D1%80%D0%BD%D0%BE%D1%8E%20(%D0%BE%D0%B6%D0%B8%D1%80%D1%96%D0%BD%D0%BD%D1%8F%D0%BC) for 5 people. To calculate BMI, divide the weight by the height squared."
   ]
  },
  {
   "cell_type": "code",
   "execution_count": 6,
   "id": "9c606d4c",
   "metadata": {
    "ExecuteTime": {
     "end_time": "2023-11-14T08:51:47.187507Z",
     "start_time": "2023-11-14T08:51:47.180505Z"
    }
   },
   "outputs": [
    {
     "name": "stdout",
     "output_type": "stream",
     "text": [
      "bmi person1 = 30\n",
      "bmi person2 = 29\n",
      "bmi person3 = 29\n",
      "bmi person4 = 24\n",
      "bmi person5 = 28\n"
     ]
    }
   ],
   "source": [
    "person1 = [80, 1.62]\n",
    "person2 = [69, 1.53]\n",
    "person3 = [80, 1.66]\n",
    "person4 = [80, 1.79]\n",
    "person5 = [72, 1.60]\n",
    "\n",
    "bmi_person1 = int(person1[0] / person1[1]**2)\n",
    "print(\"bmi {} = {}\".format('person1', bmi_person1))\n",
    "\n",
    "bmi_person2 = int(person2[0] / person2[1]**2)\n",
    "print(\"bmi {} = {}\".format('person2', bmi_person2))\n",
    "\n",
    "bmi_person3 = int(person3[0] / person3[1]**2)\n",
    "print(\"bmi {} = {}\".format('person3', bmi_person3))\n",
    "\n",
    "bmi_person4 = int(person4[0] / person4[1]**2)\n",
    "print(\"bmi {} = {}\".format('person4', bmi_person4))\n",
    "\n",
    "bmi_person5 = int(person5[0] / person5[1]**2)\n",
    "print(\"bmi {} = {}\".format('person5', bmi_person5))"
   ]
  },
  {
   "cell_type": "code",
   "execution_count": 7,
   "id": "82a374d0",
   "metadata": {
    "ExecuteTime": {
     "end_time": "2023-11-14T08:51:52.651142Z",
     "start_time": "2023-11-14T08:51:52.645139Z"
    }
   },
   "outputs": [
    {
     "name": "stdout",
     "output_type": "stream",
     "text": [
      "bmi person1 = 30\n",
      "bmi person2 = 29\n",
      "bmi person3 = 29\n",
      "bmi person4 = 24\n",
      "bmi person5 = 28\n"
     ]
    }
   ],
   "source": [
    "def bmi_calc(person_num, weight_kg, height_m):\n",
    "    \"\"\"Calculate BMI from weight in kg and height in meters\"\"\"\n",
    "    bmi = int(weight_kg / height_m**2)\n",
    "    name = 'person' + str(person_num)\n",
    "    print(\"bmi {} = {}\".format(name, bmi))\n",
    "\n",
    "# person data = [id, weight_kg, height_m]\n",
    "people = [\n",
    "   [1, 80, 1.62], # person1\n",
    "   [2, 69, 1.53], # person2\n",
    "   [3, 80, 1.66], # person3\n",
    "   [4, 80, 1.79], # person4\n",
    "   [5, 72, 1.60]  # person5\n",
    "] \n",
    "\n",
    "\n",
    "for person in people:\n",
    "    person_num, weight_kg, height_m = person[0], person[1], person[2]\n",
    "    bmi_calc(person_num, weight_kg, height_m)   "
   ]
  },
  {
   "cell_type": "markdown",
   "id": "770e44ca",
   "metadata": {
    "ExecuteTime": {
     "end_time": "2022-10-22T09:44:07.936985Z",
     "start_time": "2022-10-22T09:44:07.861792Z"
    }
   },
   "source": [
    "4. A `distance` function that measures the distance between two points on a line. The function must take two parameters as input, check that both of them are of a numeric type (that is, either an integer or a floating point number):\n",
    "- if so, the function returns the result of the calculation,\n",
    "- if the types are incorrect, an exception is raised in the function with the message: \"The data type of one or both of the entered numbers is incorrect\"."
   ]
  },
  {
   "attachments": {
    "Screenshot%20%282%29.png": {
     "image/png": "[encoded data removed]"
    }
   },
   "cell_type": "markdown",
   "id": "34f6e2e5",
   "metadata": {},
   "source": [
    "![Screenshot%20%282%29.png](attachment:Screenshot%20%282%29.png)"
   ]
  },
  {
   "cell_type": "code",
   "execution_count": 8,
   "id": "923ad832",
   "metadata": {
    "ExecuteTime": {
     "end_time": "2023-11-14T08:52:25.161297Z",
     "start_time": "2023-11-14T08:52:25.157296Z"
    }
   },
   "outputs": [],
   "source": [
    "class CustomException(Exception):\n",
    "    pass\n",
    "\n",
    "def is_digit(x):\n",
    "    return type(x) == int or type(x) == float\n",
    "\n",
    "def distance(x1, x2):\n",
    "     if is_digit(x1) and is_digit(x2):\n",
    "        return abs(x1 - x2)\n",
    "     else:\n",
    "        raise CustomException(\"The data type of one or both of the entered numbers is incorrect\")"
   ]
  },
  {
   "cell_type": "markdown",
   "id": "757f54f2",
   "metadata": {},
   "source": [
    "Or another option to do so:"
   ]
  },
  {
   "cell_type": "code",
   "execution_count": 9,
   "id": "519a4886",
   "metadata": {
    "ExecuteTime": {
     "end_time": "2023-11-14T08:52:59.881657Z",
     "start_time": "2023-11-14T08:52:59.876648Z"
    }
   },
   "outputs": [],
   "source": [
    "def is_digit(x):\n",
    "    return type(x) == int or type(x) == float\n",
    "\n",
    "def distance(x1, x2):\n",
    "     if is_digit(x1) and is_digit(x2):\n",
    "        return abs(x1 - x2)\n",
    "     else:\n",
    "        raise Exception(\"The data type of one or both of the entered numbers is incorrect\")"
   ]
  },
  {
   "cell_type": "code",
   "execution_count": 10,
   "id": "a0e8848c",
   "metadata": {
    "ExecuteTime": {
     "end_time": "2023-11-14T08:53:04.099154Z",
     "start_time": "2023-11-14T08:53:03.613037Z"
    }
   },
   "outputs": [
    {
     "name": "stdout",
     "output_type": "stream",
     "text": [
      "1\n",
      "1009\n",
      "1754\n"
     ]
    },
    {
     "ename": "Exception",
     "evalue": "The data type of one or both of the entered numbers is incorrect",
     "output_type": "error",
     "traceback": [
      "\u001b[1;31m---------------------------------------------------------------------------\u001b[0m",
      "\u001b[1;31mException\u001b[0m                                 Traceback (most recent call last)",
      "Cell \u001b[1;32mIn[10], line 4\u001b[0m\n\u001b[0;32m      2\u001b[0m \u001b[38;5;28mprint\u001b[39m(distance(\u001b[38;5;241m1011\u001b[39m,\u001b[38;5;241m2\u001b[39m))\n\u001b[0;32m      3\u001b[0m \u001b[38;5;28mprint\u001b[39m(distance(\u001b[38;5;241m-\u001b[39m\u001b[38;5;241m199\u001b[39m, \u001b[38;5;241m1555\u001b[39m))\n\u001b[1;32m----> 4\u001b[0m \u001b[38;5;28mprint\u001b[39m(\u001b[43mdistance\u001b[49m\u001b[43m(\u001b[49m\u001b[38;5;124;43m'\u001b[39;49m\u001b[38;5;124;43m2121\u001b[39;49m\u001b[38;5;124;43m'\u001b[39;49m\u001b[43m,\u001b[49m\u001b[43m \u001b[49m\u001b[38;5;241;43m123\u001b[39;49m\u001b[43m)\u001b[49m)\n",
      "Cell \u001b[1;32mIn[9], line 8\u001b[0m, in \u001b[0;36mdistance\u001b[1;34m(x1, x2)\u001b[0m\n\u001b[0;32m      6\u001b[0m    \u001b[38;5;28;01mreturn\u001b[39;00m \u001b[38;5;28mabs\u001b[39m(x1 \u001b[38;5;241m-\u001b[39m x2)\n\u001b[0;32m      7\u001b[0m \u001b[38;5;28;01melse\u001b[39;00m:\n\u001b[1;32m----> 8\u001b[0m    \u001b[38;5;28;01mraise\u001b[39;00m \u001b[38;5;167;01mException\u001b[39;00m(\u001b[38;5;124m\"\u001b[39m\u001b[38;5;124mThe data type of one or both of the entered numbers is incorrect\u001b[39m\u001b[38;5;124m\"\u001b[39m)\n",
      "\u001b[1;31mException\u001b[0m: The data type of one or both of the entered numbers is incorrect"
     ]
    }
   ],
   "source": [
    "print(distance(1,2))\n",
    "print(distance(1011,2))\n",
    "print(distance(-199, 1555))\n",
    "print(distance('2121', 123))"
   ]
  },
  {
   "cell_type": "markdown",
   "id": "c2929bd7",
   "metadata": {},
   "source": [
    "5. Let's create the class \"Shop\". This is a class for defining stores of the ABC company. Each store has a location and a profit. We will create three stores in three separate variables:  \n",
    "- one with the location \"Kyiv\" and a profit of 5500,   \n",
    "- the second with the location \"Lviv\" and profit 3000,  \n",
    "- the third one with the \"Poltava\" location and a profit of 2500.  \n",
    "\n",
    "Then calculate the sum of the profits of the three stores using the information about the created stores.\n",
    "Let's display the total profit on the screen."
   ]
  },
  {
   "cell_type": "code",
   "execution_count": 11,
   "id": "dd862b1b",
   "metadata": {
    "ExecuteTime": {
     "end_time": "2023-11-14T08:53:27.089821Z",
     "start_time": "2023-11-14T08:53:27.084820Z"
    }
   },
   "outputs": [
    {
     "name": "stdout",
     "output_type": "stream",
     "text": [
      "Total profit of three stores: 11000\n"
     ]
    }
   ],
   "source": [
    "class Shop:\n",
    "    company = 'ABC'\n",
    "    def __init__(self, location, profit):\n",
    "        self.location = location\n",
    "        self.profit = profit\n",
    "        \n",
    "        \n",
    "shop_1 = Shop(\"Київ\", 5500)\n",
    "shop_2 = Shop(\"Львів\", 3000)\n",
    "shop_3 = Shop(\"Полтава\", 2500)\n",
    "\n",
    "total = 0\n",
    "for shop in [shop_1, shop_2, shop_3]:\n",
    "    total += shop.profit\n",
    "print(f'Total profit of three stores: {total}')"
   ]
  },
  {
   "cell_type": "markdown",
   "id": "78a27144",
   "metadata": {
    "ExecuteTime": {
     "end_time": "2022-10-22T10:12:49.668479Z",
     "start_time": "2022-10-22T10:12:49.636219Z"
    }
   },
   "source": [
    "6. Create the class Employee, which, when initialising the class representative, defines the fields \"Surname\", \"Month of birth\" and \"Salary\"."
   ]
  },
  {
   "cell_type": "code",
   "execution_count": 12,
   "id": "c908a0ce",
   "metadata": {
    "ExecuteTime": {
     "end_time": "2023-11-14T08:53:43.904238Z",
     "start_time": "2023-11-14T08:53:43.901238Z"
    }
   },
   "outputs": [],
   "source": [
    "class Employee:\n",
    "    def __init__(self, surname, month_of_birth, salary):\n",
    "        self.surname = surname\n",
    "        self.month_of_birth = month_of_birth\n",
    "        self.salary = salary"
   ]
  },
  {
   "cell_type": "code",
   "execution_count": 13,
   "id": "84012b60",
   "metadata": {
    "ExecuteTime": {
     "end_time": "2023-11-14T08:53:44.824037Z",
     "start_time": "2023-11-14T08:53:44.821037Z"
    }
   },
   "outputs": [],
   "source": [
    "emp_1 = Employee('Чорненко', 'october', 2000)\n",
    "emp_2 = Employee('Біленко', 'january', 3000)\n",
    "emp_3 = Employee('Жовтенко', 'march', 3400)"
   ]
  },
  {
   "cell_type": "code",
   "execution_count": 14,
   "id": "9d1f6664",
   "metadata": {
    "ExecuteTime": {
     "end_time": "2023-11-14T08:53:46.417482Z",
     "start_time": "2023-11-14T08:53:46.412473Z"
    }
   },
   "outputs": [
    {
     "data": {
      "text/plain": [
       "('Чорненко', 'october', 2000)"
      ]
     },
     "execution_count": 14,
     "metadata": {},
     "output_type": "execute_result"
    }
   ],
   "source": [
    "emp_1.surname, emp_1.month_of_birth, emp_1.salary"
   ]
  },
  {
   "cell_type": "markdown",
   "id": "c939510d",
   "metadata": {
    "ExecuteTime": {
     "end_time": "2022-10-22T10:17:28.531508Z",
     "start_time": "2022-10-22T10:17:28.526117Z"
    }
   },
   "source": [
    "7. To the Employee class, add the salutate method, which will congratulate the employee on his birthday. \n",
    "The method will take a given month as input and:\n",
    "\n",
    "- if this month coincides with the employee's birthday, it will print: \"Congratulations, Mr.  < employee name >! It is your birthday on < month name >! Be healthy!\". To generate the greeting, we will use string interpolation.\n",
    "- If the month does not coincide with the employee's birthday, the method will return nothing. "
   ]
  },
  {
   "cell_type": "code",
   "execution_count": 15,
   "id": "5573d1f6",
   "metadata": {
    "ExecuteTime": {
     "end_time": "2023-11-14T08:54:16.961801Z",
     "start_time": "2023-11-14T08:54:16.956793Z"
    }
   },
   "outputs": [],
   "source": [
    "class Employee:\n",
    "    def __init__(self, surname, birth_month, salary):\n",
    "        self.surname = surname\n",
    "        self.birth_month = birth_month\n",
    "        self.salary = salary\n",
    "        \n",
    "    def salutate(self, month):\n",
    "        if month == self.birth_month:\n",
    "            print(f\"Congratulations, Mr. {self.surname}! It is your birthday on {month}! Be healthy!\")"
   ]
  },
  {
   "cell_type": "code",
   "execution_count": 16,
   "id": "7e63b51f",
   "metadata": {
    "ExecuteTime": {
     "end_time": "2023-11-14T08:54:17.857057Z",
     "start_time": "2023-11-14T08:54:17.853047Z"
    }
   },
   "outputs": [
    {
     "name": "stdout",
     "output_type": "stream",
     "text": [
      "Congratulations, Mr. Біленко! It is your birthday on january! Be healthy!\n"
     ]
    }
   ],
   "source": [
    "emp_1 = Employee('Чорненко', 'october', 2000)\n",
    "emp_2 = Employee('Біленко', 'january', 3000)\n",
    "emp_3 = Employee('Жовтенко', 'march', 3400)\n",
    "\n",
    "emp_1.salutate('december')\n",
    "emp_2.salutate('january')\n",
    "emp_3.salutate('may')"
   ]
  },
  {
   "cell_type": "markdown",
   "id": "1eb906e1",
   "metadata": {},
   "source": [
    "8. Let's create a class that inherits from `Employee` and is called `BossEmployee`. This class has all the same fields at initialisation as Employee, but also has a `n_subordinates` field, i.e. the number of subordinates. Let's add the `add_subordinates` method to the newly created class, which will add the number of subordinates to this boss passed to the method (that is, it will update the `n_subordinates` class field) and display the message: `Congratulations, Mr. < employee surname >! You have < number of employees entered in the method > new employees!\".\n",
    "\n",
    "We will check that the number of new subordinates is an integer, if it is not, we will display a message: `The number <the number entered in the method, rounded to three decimal places> cannot be the number of employees. \n",
    "\n",
    "To generate the message, I used the string formatting method. "
   ]
  },
  {
   "cell_type": "code",
   "execution_count": 17,
   "id": "303ea688",
   "metadata": {
    "ExecuteTime": {
     "end_time": "2023-11-14T08:55:08.474484Z",
     "start_time": "2023-11-14T08:55:08.469483Z"
    }
   },
   "outputs": [],
   "source": [
    "class BossEmployee(Employee):\n",
    "    def __init__(self, surname, birth_month, salary, n_subordinates):\n",
    "        super().__init__(surname, birth_month, salary)\n",
    "        self.n_subordinates = n_subordinates\n",
    "        \n",
    "    def add_subordinates(self, n_new_subordinates):\n",
    "        if isinstance(n_new_subordinates, int):\n",
    "            self.n_subordinates += n_new_subordinates\n",
    "            print(\"Congratulations, Mr. {}! You have {} new employees!\".format(self.surname, n_new_subordinates))\n",
    "        else:\n",
    "            print(\"The number {:.3f} cannot be the number of subordinates.\".format(n_new_subordinates))"
   ]
  },
  {
   "cell_type": "code",
   "execution_count": 18,
   "id": "bc7d2248",
   "metadata": {
    "ExecuteTime": {
     "end_time": "2023-11-14T08:55:09.194403Z",
     "start_time": "2023-11-14T08:55:09.189394Z"
    }
   },
   "outputs": [
    {
     "name": "stdout",
     "output_type": "stream",
     "text": [
      "Congratulations, Mr. Босенко! You have 5 new employees!\n",
      "The number 4.788 cannot be the number of subordinates.\n",
      "Congratulations, Mr. Босенко! You have 4 new employees!\n"
     ]
    },
    {
     "data": {
      "text/plain": [
       "12"
      ]
     },
     "execution_count": 18,
     "metadata": {},
     "output_type": "execute_result"
    }
   ],
   "source": [
    "emp_4 = BossEmployee('Босенко', 'july', 5500, 3)\n",
    "emp_4.add_subordinates(5)\n",
    "emp_4.add_subordinates(4.78764174)\n",
    "emp_4.add_subordinates(4)\n",
    "emp_4.n_subordinates"
   ]
  },
  {
   "cell_type": "code",
   "execution_count": null,
   "id": "654a0c47",
   "metadata": {},
   "outputs": [],
   "source": []
  }
 ],
 "metadata": {
  "kernelspec": {
   "display_name": "Python 3 (ipykernel)",
   "language": "python",
   "name": "python3"
  },
  "language_info": {
   "codemirror_mode": {
    "name": "ipython",
    "version": 3
   },
   "file_extension": ".py",
   "mimetype": "text/x-python",
   "name": "python",
   "nbconvert_exporter": "python",
   "pygments_lexer": "ipython3",
   "version": "3.10.9"
  },
  "toc": {
   "base_numbering": 1,
   "nav_menu": {},
   "number_sections": true,
   "sideBar": true,
   "skip_h1_title": false,
   "title_cell": "Table of Contents",
   "title_sidebar": "Contents",
   "toc_cell": false,
   "toc_position": {},
   "toc_section_display": true,
   "toc_window_display": false
  }
 },
 "nbformat": 4,
 "nbformat_minor": 5
}
